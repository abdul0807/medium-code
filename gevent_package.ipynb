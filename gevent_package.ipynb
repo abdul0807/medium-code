{
 "cells": [
  {
   "cell_type": "code",
   "execution_count": 1,
   "metadata": {},
   "outputs": [],
   "source": [
    "# !pip install gevent"
   ]
  },
  {
   "cell_type": "markdown",
   "metadata": {},
   "source": [
    "## Simple Example - using gevent package"
   ]
  },
  {
   "cell_type": "code",
   "execution_count": 2,
   "metadata": {
    "_cell_guid": "b1076dfc-b9ad-4769-8c92-a6c4dae69d19",
    "_uuid": "8f2839f25d086af736a60e9eeb907d3b93b6e0e5"
   },
   "outputs": [],
   "source": [
    "import gevent # loading the gevent package\n",
    "from time import time # For response time comparisons\n",
    "class Prediction:\n",
    "    def __init__(self):\n",
    "        pass\n",
    "    \n",
    "    def first_model_prediction(self, data=None, arg=None):\n",
    "        print (\"In first model\")\n",
    "        # Code for preprocessing, feature engineering if required\n",
    "        # Assuming that this takes ~ 500ms\n",
    "        # Let us sleep for 500ms\n",
    "        gevent.sleep(0.5)\n",
    "        print (\"Out first model\")\n",
    "        \n",
    "        return \"prediction1\"\n",
    "    \n",
    "    def second_model_prediction(self, data=None, arg=None):\n",
    "        print (\"In second model\")\n",
    "        # Code for preprocessing, feature engineering if required\n",
    "        # Assuming that this takes ~ 500ms\n",
    "        # Let us sleep for 500ms\n",
    "        gevent.sleep(0.5)\n",
    "        print (\"Out second model\")\n",
    "        \n",
    "        return \"prediction2\"\n",
    "    \n",
    "    # final prediction \n",
    "    def predict(self, data=None):\n",
    "        # Code for preprocessing, feature engineering in case both models uses same features\n",
    "        arg = None # Dummy argument\n",
    "        \n",
    "        # Creating separate threads for each model\n",
    "        g1 = gevent.spawn(self.first_model_prediction, data, arg)\n",
    "        g2 = gevent.spawn(self.second_model_prediction, data, arg)\n",
    "        \n",
    "        # Joining the threads together\n",
    "        gevent.joinall([g1, g2])\n",
    "        \n",
    "        # getting the first model results\n",
    "        first_model_result = g1.value\n",
    "\n",
    "        # getting the second model results\n",
    "        second_model_result = g2.value\n",
    "\n",
    "        # Performing some calculations with the results of the two models\n",
    "        final_result = first_model_result + second_model_result\n",
    "            \n",
    "        return final_result"
   ]
  },
  {
   "cell_type": "markdown",
   "metadata": {},
   "source": [
    "- Please note that I have used a class instead of simple functions for people interested in Object Oriented Programming. We can instead use simple functions as well."
   ]
  },
  {
   "cell_type": "code",
   "execution_count": 3,
   "metadata": {},
   "outputs": [
    {
     "name": "stdout",
     "output_type": "stream",
     "text": [
      "In first model\n",
      "Out first model\n",
      "In second model\n",
      "Out second model\n",
      "total time taken without using gevent is 1.0057871341705322\n"
     ]
    }
   ],
   "source": [
    "predict = Prediction()\n",
    "\n",
    "tb = time()\n",
    "# Prediction using the first model\n",
    "first_result = predict.first_model_prediction()\n",
    "# Prediction using the second model\n",
    "second_result = predict.second_model_prediction()\n",
    "ta = time()\n",
    "print (\"total time taken without using gevent is {}\".format(ta-tb))"
   ]
  },
  {
   "cell_type": "markdown",
   "metadata": {},
   "source": [
    "- Since the functions are running sequentially. So calling the functions directly ended up with a response time of close to 1 second. \n",
    "- As seen, The sequence of output is first model In and Out. Then second model In and Out.\n",
    "\n",
    "- Let us try using the predict function which uses gevent and run the models in parallel."
   ]
  },
  {
   "cell_type": "code",
   "execution_count": 4,
   "metadata": {},
   "outputs": [
    {
     "name": "stdout",
     "output_type": "stream",
     "text": [
      "In first model\n",
      "In second model\n",
      "Out first model\n",
      "Out second model\n",
      "total time taken using gevent is 0.5052769184112549\n"
     ]
    }
   ],
   "source": [
    "tb = time()\n",
    "result = predict.predict(None)\n",
    "ta = time()\n",
    "print (\"total time taken using gevent is {}\".format(ta-tb))"
   ]
  },
  {
   "cell_type": "markdown",
   "metadata": {},
   "source": [
    "- As shown above, the model prediction ran in parallel. First model and Second model In together and are processed simultaneously. And the response time is now close to 500ms.\n",
    "\n",
    "- The total time taken is the maximum of the time taken by both the function."
   ]
  },
  {
   "cell_type": "code",
   "execution_count": null,
   "metadata": {
    "_cell_guid": "79c7e3d0-c299-4dcb-8224-4455121ee9b0",
    "_uuid": "d629ff2d2480ee46fbb7e2d37f6b5fab8052498a"
   },
   "outputs": [],
   "source": []
  }
 ],
 "metadata": {
  "kernelspec": {
   "display_name": "Python 3",
   "language": "python",
   "name": "python3"
  },
  "language_info": {
   "codemirror_mode": {
    "name": "ipython",
    "version": 3
   },
   "file_extension": ".py",
   "mimetype": "text/x-python",
   "name": "python",
   "nbconvert_exporter": "python",
   "pygments_lexer": "ipython3",
   "version": "3.6.9"
  },
  "toc": {
   "base_numbering": 1,
   "nav_menu": {},
   "number_sections": true,
   "sideBar": true,
   "skip_h1_title": false,
   "title_cell": "Table of Contents",
   "title_sidebar": "Contents",
   "toc_cell": false,
   "toc_position": {},
   "toc_section_display": true,
   "toc_window_display": false
  }
 },
 "nbformat": 4,
 "nbformat_minor": 4
}
